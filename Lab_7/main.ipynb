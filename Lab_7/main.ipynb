{
 "cells": [
  {
   "cell_type": "code",
   "execution_count": 1,
   "id": "e96da28e",
   "metadata": {},
   "outputs": [],
   "source": [
    "import numpy as np\n",
    "from scipy.integrate import quad_vec\n",
    "import matplotlib.pyplot as plt\n",
    "\n",
    "# Task 1 function\n",
    "f = lambda x: 4/(1+x**2)\n",
    "# Task 2 functions\n",
    "g = lambda x: np.sqrt(x)*np.log(x) # Uses base e logarithm\n",
    "g_real_integral = -4/9 # Real integral value of g from 0 to 1\n",
    "\n",
    "a, b = 0.001, 0.004\n",
    "h = lambda x: 1/((x-0.3)**2+a)+1/((x-0.9)**2+b)-6\n",
    "# Real integral value of h from 0 to 1\n",
    "h_real_integral = 1/np.sqrt(a)*(np.arctan(0.7/np.sqrt(a))+np.arctan(0.3/np.sqrt(a))) \\\n",
    "                + 1/np.sqrt(b)*(np.arctan(0.1/np.sqrt(b))+np.arctan(0.9/np.sqrt(b))) - 6 "
   ]
  },
  {
   "cell_type": "code",
   "execution_count": null,
   "id": "3b9a03c0",
   "metadata": {},
   "outputs": [],
   "source": [
    "# Task 1\n",
    "tolerances = [10**k for k in range(0, -15, -1)]\n",
    "for tolerance in tolerances:\n",
    "    trapezoid_info, gauss_kronrod_info = None, None\n",
    "    trapezoid_quadrature = quad_vec(f, 0, 1, quadrature='trapezoid', epsrel=tolerance, full_output=trapezoid_info)\n",
    "    gauss_kronrod_quadrature = quad_vec(f, 0, 1, quadrature='gk21', epsrel=tolerance, full_output=gauss_kronrod_info)\n",
    "    trapezoid_neval, gauss_kronrod_neval = trapezoid_info.neval, gauss_kronrod_info.neval\n",
    "    # TODO: Draw absolute relative error graph (with neval on x-axis)\n",
    "    # TODO: Add results to lab 6 graph"
   ]
  },
  {
   "cell_type": "code",
   "execution_count": null,
   "id": "7f009645",
   "metadata": {},
   "outputs": [],
   "source": [
    "# Task 2\n",
    "# TODO: Copy task 1 for g, h and lab 6 for g, h"
   ]
  }
 ],
 "metadata": {
  "kernelspec": {
   "display_name": "Python 3",
   "language": "python",
   "name": "python3"
  },
  "language_info": {
   "codemirror_mode": {
    "name": "ipython",
    "version": 3
   },
   "file_extension": ".py",
   "mimetype": "text/x-python",
   "name": "python",
   "nbconvert_exporter": "python",
   "pygments_lexer": "ipython3",
   "version": "3.12.3"
  }
 },
 "nbformat": 4,
 "nbformat_minor": 5
}
