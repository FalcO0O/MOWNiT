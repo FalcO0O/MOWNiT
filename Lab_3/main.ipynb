{
 "cells": [
  {
   "cell_type": "code",
   "execution_count": 4,
   "metadata": {},
   "outputs": [],
   "source": [
    "import numpy as np\n",
    "import pandas as pd"
   ]
  },
  {
   "cell_type": "code",
   "execution_count": null,
   "metadata": {},
   "outputs": [
    {
     "name": "stdout",
     "output_type": "stream",
     "text": [
      "           0\n",
      "0   76212168\n",
      "1   92228496\n",
      "2  106021537\n",
      "3  123202624\n",
      "4  132164569\n",
      "5  151325798\n",
      "6  179323175\n",
      "7  203302031\n",
      "8  226542199\n"
     ]
    }
   ],
   "source": [
    "df = pd.DataFrame([76_212_168, 92_228_496, 106_021_537, 123_202_624, 132_164_569, 151_325_798, 179_323_175, 203_302_031, 226_542_199])\n",
    "print(df)"
   ]
  }
 ],
 "metadata": {
  "kernelspec": {
   "display_name": "Python 3",
   "language": "python",
   "name": "python3"
  },
  "language_info": {
   "codemirror_mode": {
    "name": "ipython",
    "version": 3
   },
   "file_extension": ".py",
   "mimetype": "text/x-python",
   "name": "python",
   "nbconvert_exporter": "python",
   "pygments_lexer": "ipython3",
   "version": "3.12.0"
  }
 },
 "nbformat": 4,
 "nbformat_minor": 2
}
